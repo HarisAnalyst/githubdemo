{
 "cells": [
  {
   "cell_type": "code",
   "execution_count": 2,
   "id": "fb7691c2-1ab5-4081-96d3-9037e2d9b13e",
   "metadata": {},
   "outputs": [
    {
     "name": "stdout",
     "output_type": "stream",
     "text": [
      "Hi my name is Haris Khan.\n"
     ]
    }
   ],
   "source": [
    "print(\"Hi my name is Haris Khan.\")"
   ]
  },
  {
   "cell_type": "code",
   "execution_count": null,
   "id": "1ae4009e-e0b5-4c62-a63b-722cb11470ef",
   "metadata": {},
   "outputs": [],
   "source": []
  }
 ],
 "metadata": {
  "kernelspec": {
   "display_name": "Python 3 (ipykernel)",
   "language": "python",
   "name": "python3"
  },
  "language_info": {
   "codemirror_mode": {
    "name": "ipython",
    "version": 3
   },
   "file_extension": ".py",
   "mimetype": "text/x-python",
   "name": "python",
   "nbconvert_exporter": "python",
   "pygments_lexer": "ipython3",
   "version": "3.12.4"
  }
 },
 "nbformat": 4,
 "nbformat_minor": 5
}
